{
 "cells": [
  {
   "cell_type": "markdown",
   "metadata": {},
   "source": [
    "# Twitter Sentiment On Oneplus6 and IphoneX"
   ]
  },
  {
   "cell_type": "code",
   "execution_count": 1,
   "metadata": {
    "collapsed": true
   },
   "outputs": [],
   "source": [
    "from textblob import TextBlob\n",
    "import tweepy #Twitter API"
   ]
  },
  {
   "cell_type": "markdown",
   "metadata": {},
   "source": [
    "#### Setting up Twitter Keys"
   ]
  },
  {
   "cell_type": "code",
   "execution_count": 2,
   "metadata": {
    "collapsed": true
   },
   "outputs": [],
   "source": [
    "consumer_key = 'ZY1fK0n8k1TL1JuwuvS833RPf'\n",
    "consumer_secret = 'asvEPQN1rrtcJybht7IsPi9U2sDFoGw1Lje3HPwh6ga1rEDNAS'\n",
    "access_token = '1032199357-bDN0J3ejpG45FRW1ganOjDvje1PEeZW81toFU3D'\n",
    "access_token_secret = 'AcKeV1o4lK2r04jUcqIYfjvtZLHXRdJBQITMfWK8VloEH'"
   ]
  },
  {
   "cell_type": "markdown",
   "metadata": {},
   "source": [
    "#### Authentication"
   ]
  },
  {
   "cell_type": "code",
   "execution_count": 5,
   "metadata": {
    "collapsed": true
   },
   "outputs": [],
   "source": [
    "auth = tweepy.OAuthHandler(consumer_key, consumer_secret)\n",
    "auth.set_access_token(access_token, access_token_secret)"
   ]
  },
  {
   "cell_type": "markdown",
   "metadata": {},
   "source": [
    "#### Getting Tweets from twitter\n",
    "Using Textblob printing sentiment polarity of each tweet"
   ]
  },
  {
   "cell_type": "code",
   "execution_count": 7,
   "metadata": {},
   "outputs": [
    {
     "name": "stdout",
     "output_type": "stream",
     "text": [
      "RT @amazonIN: Capture incredible photos with the 16+20 MP dual camera in the new OnePlus 6. #AmazonExclusive #TheSpeedYouNeed #OnePlus6\n",
      "Sentiment(polarity=0.5181818181818182, subjectivity=0.6772727272727272)\n",
      "RT @oneplus_fr: #OnePlus6 alias \"le dynamiteur du marché\" 💣💥 @le_Parisien https://t.co/g4FN5KFG9O\n",
      "Sentiment(polarity=0.0, subjectivity=0.0)\n",
      "RT @oneplus: Mirror, mirror on the wall, which phone is the fairest of them all? React to help us find our lost #OnePlus6 Mirror Black in t…\n",
      "Sentiment(polarity=-0.16666666666666666, subjectivity=0.43333333333333335)\n"
     ]
    }
   ],
   "source": [
    "api = tweepy.API(auth)\n",
    "public_tweets = api.search('Oneplus6')\n",
    "for tweet in public_tweets:\n",
    "    print(tweet.text)\n",
    "    analysis = TextBlob(tweet.text)\n",
    "    sentiment_polarity = [0]\n",
    "    sentiment_polarity.append(analysis.sentiment[0])\n",
    "    print(analysis.sentiment)"
   ]
  },
  {
   "cell_type": "markdown",
   "metadata": {},
   "source": [
    "#### IphoneX"
   ]
  },
  {
   "cell_type": "code",
   "execution_count": 8,
   "metadata": {},
   "outputs": [
    {
     "name": "stdout",
     "output_type": "stream",
     "text": [
      "Come farsi da solo #app #iliad perché loro non l’hanno ancora fatta su #iphone grazie ad aggiungi a home, un must e… https://t.co/tF0gRaVuKv\n",
      "Sentiment(polarity=0.0, subjectivity=0.0)\n",
      "RT @teluru_urawa: 【#月末 #限定】\n",
      "#docomo #iPhone 祭です🎉\n",
      "\n",
      "#iPhone8 #red\n",
      "#iPhoneX\n",
      "#iPhone8plus\n",
      "\n",
      "⬇️詳細はこちら⬇️\n",
      "https://t.co/UxxmgBmqnw\n",
      "\n",
      "早期終了の可能性がありますのでお…\n",
      "Sentiment(polarity=0.0, subjectivity=0.0)\n",
      "RT @teluru_urawa: 【#月末 #限定】\n",
      "🔥 #docomo #iPhone 祭　始まる🔥\n",
      "\n",
      "#iPhone8 #red\n",
      "#iPhoneX\n",
      "#iPhone8plus\n",
      "\n",
      "⬇️詳細はこちら⬇️\n",
      "https://t.co/UxxmgBmqnw\n",
      "\n",
      "早期終了の可能性がありま…\n",
      "Sentiment(polarity=0.0, subjectivity=0.0)\n",
      "#Win one of these #iPhoneX &amp; #iPhone8 ?? just RETWEET &amp; FOLLOW us COMMENT THE ONE YOU WANT #Giveaway #Phone https://t.co/ia8thDL6q9 19\n",
      "Sentiment(polarity=0.8, subjectivity=0.4)\n",
      "RT @MaxdMerc: This mornings Kodi build on my iPhone X - @NebUla_Builds \n",
      "\n",
      "Gotta love the green 👍🏻\n",
      "\n",
      "#iPhone #iPhoneX #Kodi #Nebula #iOS12 htt…\n",
      "Sentiment(polarity=0.15, subjectivity=0.44999999999999996)\n",
      "Half Full... #superoptimistic\n",
      ".\n",
      "Wedding countdown 7.1.18\n",
      ".\n",
      ".\n",
      ".\n",
      "#thatportraitmodetho #gettingmarried #iphonex… https://t.co/cE8ECzImVV\n",
      "Sentiment(polarity=0.09166666666666666, subjectivity=0.35833333333333334)\n",
      "@shizuho_h 何に充電するかまで見てませんでしたけどうちのiPhoneXだと3から4回いけます\n",
      "サイズもスマホより気持ち大きいくらいなので片手に充電しっぱなしで持つのにもいいくらいです\n",
      "Sentiment(polarity=0.0, subjectivity=0.0)\n",
      "RT @SleekDeals: 🔥Limited Time Offer!\n",
      "Own The Cabin In the Woods Movie in 4K HDR for $4.99\n",
      "\n",
      "#movies #Apple #itunes #iphonex #deals #MonsterH…\n",
      "Sentiment(polarity=0.6, subjectivity=1.0)\n",
      "RT @SleekDeals: 🔥Limited Time Offer!\n",
      "Own The Cabin In the Woods Movie in 4K HDR for $4.99\n",
      "\n",
      "#movies #Apple #itunes #iphonex #deals #MonsterH…\n",
      "Sentiment(polarity=0.6, subjectivity=1.0)\n",
      "RT @Gojojodeals: Lamborghini Huracan D1 Hand Crafted Italian Leather Case For IPhone X Red.\n",
      "\n",
      "Shop at: https://t.co/a9ogJP3Yer\n",
      "\n",
      "#gojojo #iph…\n",
      "Sentiment(polarity=0.0, subjectivity=0.0)\n",
      "RT @SleekDeals: 🔥Limited Time Offer!\n",
      "Own The Cabin In the Woods Movie in 4K HDR for $4.99\n",
      "\n",
      "#movies #Apple #itunes #iphonex #deals #MonsterH…\n",
      "Sentiment(polarity=0.6, subjectivity=1.0)\n",
      "RT @SleekDeals: 🔥Limited Time Offer!\n",
      "Own The Cabin In the Woods Movie in 4K HDR for $4.99\n",
      "\n",
      "#movies #Apple #itunes #iphonex #deals #MonsterH…\n",
      "Sentiment(polarity=0.6, subjectivity=1.0)\n",
      "🔥Limited Time Offer!\n",
      "Own The Cabin In the Woods Movie in 4K HDR for $4.99\n",
      "\n",
      "#movies #Apple #itunes #iphonex #deals… https://t.co/GpRtTLs9EN\n",
      "Sentiment(polarity=0.6, subjectivity=1.0)\n"
     ]
    }
   ],
   "source": [
    "api = tweepy.API(auth)\n",
    "public_tweets = api.search('iphoneX')\n",
    "for tweet in public_tweets:\n",
    "    print(tweet.text)\n",
    "    analysis = TextBlob(tweet.text)\n",
    "    sentiment_polarity = [0]\n",
    "    sentiment_polarity.append(analysis.sentiment[0])\n",
    "    print(analysis.sentiment)"
   ]
  }
 ],
 "metadata": {
  "kernelspec": {
   "display_name": "Python [conda root]",
   "language": "python",
   "name": "conda-root-py"
  },
  "language_info": {
   "codemirror_mode": {
    "name": "ipython",
    "version": 3
   },
   "file_extension": ".py",
   "mimetype": "text/x-python",
   "name": "python",
   "nbconvert_exporter": "python",
   "pygments_lexer": "ipython3",
   "version": "3.6.2"
  }
 },
 "nbformat": 4,
 "nbformat_minor": 2
}
